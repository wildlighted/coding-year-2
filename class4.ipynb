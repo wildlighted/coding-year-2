{
 "cells": [
  {
   "cell_type": "markdown",
   "metadata": {},
   "source": [
    "# Эта функция позволяет мне выразить свои эмоции\n",
    "\n",
    "Результат применения этой функции — то, что мне немножко полегче."
   ]
  },
  {
   "cell_type": "code",
   "execution_count": 1,
   "metadata": {},
   "outputs": [
    {
     "name": "stdout",
     "output_type": "stream",
     "text": [
      "Just fucking bury me already\n"
     ]
    }
   ],
   "source": [
    "#when will the sweet embrace of death welcome me\n",
    "print(\"Just fucking bury me already\")"
   ]
  },
  {
   "cell_type": "code",
   "execution_count": 9,
   "metadata": {},
   "outputs": [
    {
     "name": "stdout",
     "output_type": "stream",
     "text": [
      "<class 'dict'>\n"
     ]
    }
   ],
   "source": [
    "import json\n",
    "\n",
    "json_string = \"\"\"{\n",
    "\t\"contents\": \"my fucked up day\",\n",
    "\t\"things i hate right now\": [\n",
    "        {\n",
    "\t\t\t\"thing\": \"trains\",\n",
    "\t\t\t\"how much\": \"a fucking lot\",\n",
    "\t\t\t\"why\": \"fucked up service\"\n",
    "\t\t},\n",
    "\t\t{\n",
    "\t\t\t\"thing\": \"computer\",\n",
    "\t\t\t\"how much\": \"very\",\n",
    "\t\t\t\"why\": \"a slow and heavy fucker\"\n",
    "\t\t},\n",
    "\t\t{\n",
    "\t\t\t\"thing\": \"coat\",\n",
    "\t\t\t\"how much\": \"somewhat\",\n",
    "\t\t\t\"why\": \"makes me hot while not protecting from the cold\"\n",
    "\t\t},\n",
    "\t\t{\n",
    "\t\t\t\"thing\": \"classes\",\n",
    "\t\t\t\"how much\": \"enough\",\n",
    "\t\t\t\"why\": \"start too fucking early\"\n",
    "\t\t},\n",
    "\t\t{\n",
    "\t\t\t\"thing\": \"dorm\",\n",
    "\t\t\t\"how much\": \"beyond belief\",\n",
    "\t\t\t\"why\": \"is in the middle of fucking nowhere\"\n",
    "\t\t}\n",
    "\t],\n",
    "\t\"morning\": \"awful\",\n",
    "\t\"mood out of ten\": 3,\n",
    "\t\"weather out of ten\": 8\n",
    "}\"\"\"\n",
    "data = json.loads(json_string)\n",
    "print(type(data))"
   ]
  },
  {
   "cell_type": "code",
   "execution_count": 10,
   "metadata": {},
   "outputs": [
    {
     "name": "stdout",
     "output_type": "stream",
     "text": [
      "{'contents': 'my fucked up day',\n",
      " 'mood out of ten': 3,\n",
      " 'morning': 'awful',\n",
      " 'things i hate right now': [{'how much': 'a fucking lot',\n",
      "                              'thing': 'trains',\n",
      "                              'why': 'fucked up service'},\n",
      "                             {'how much': 'very',\n",
      "                              'thing': 'computer',\n",
      "                              'why': 'a slow and heavy fucker'},\n",
      "                             {'how much': 'somewhat',\n",
      "                              'thing': 'coat',\n",
      "                              'why': 'makes me hot while not protecting from '\n",
      "                                     'the cold'},\n",
      "                             {'how much': 'enough',\n",
      "                              'thing': 'classes',\n",
      "                              'why': 'start too fucking early'},\n",
      "                             {'how much': 'beyond belief',\n",
      "                              'thing': 'dorm',\n",
      "                              'why': 'is in the middle of fucking nowhere'}],\n",
      " 'weather out of ten': 8}\n"
     ]
    }
   ],
   "source": [
    "from pprint import pprint as pp\n",
    "\n",
    "pp(data)"
   ]
  },
  {
   "cell_type": "code",
   "execution_count": 14,
   "metadata": {},
   "outputs": [],
   "source": [
    "dict = {'абв': 1, 'где': 2, 'ёжз': 3}\n",
    "with open('data.json', 'w', encoding='utf-8') as f:\n",
    "    json.dump(dict, f, ensure_ascii = False, indent = 4)"
   ]
  },
  {
   "cell_type": "code",
   "execution_count": 17,
   "metadata": {},
   "outputs": [
    {
     "name": "stdout",
     "output_type": "stream",
     "text": [
      "4\n",
      "aboutme\n",
      "coding-year-1\n",
      "coding-year-2\n",
      "KILI\n"
     ]
    }
   ],
   "source": [
    "import json\n",
    "import urllib.request\n",
    "\n",
    "user = \"wildlighted\"  # пользователь, про которого мы хотим что-то узнать\n",
    "token = \"fe42f602b4a3a3b70826edd08e98bb138a2d5d8e\"\n",
    "url = 'https://api.github.com/users/%s/repos?access_token=%s' % (user, token) \n",
    "# по этой ссылке мы будем доставать джейсон, попробуйте вставить ссылку в браузер и посмотреть, что там\n",
    "\n",
    "response = urllib.request.urlopen(url)  # посылаем серверу запрос и достаем ответ\n",
    "text = response.read().decode('utf-8')  # читаем ответ в строку\n",
    "data = json.loads(text) # превращаем джейсон-строку в объекты питона\n",
    "\n",
    "print(len(data))  # можно распечатать, сколько у пользователя репозиториев\n",
    "for i in data:\n",
    "    print(i[\"name\"]) # и распечатать названия всех репозиториев"
   ]
  },
  {
   "cell_type": "code",
   "execution_count": null,
   "metadata": {},
   "outputs": [],
   "source": []
  }
 ],
 "metadata": {
  "kernelspec": {
   "display_name": "Python 3",
   "language": "python",
   "name": "python3"
  },
  "language_info": {
   "codemirror_mode": {
    "name": "ipython",
    "version": 3
   },
   "file_extension": ".py",
   "mimetype": "text/x-python",
   "name": "python",
   "nbconvert_exporter": "python",
   "pygments_lexer": "ipython3",
   "version": "3.7.0"
  }
 },
 "nbformat": 4,
 "nbformat_minor": 2
}
