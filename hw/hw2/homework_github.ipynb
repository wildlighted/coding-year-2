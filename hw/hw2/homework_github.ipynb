{
 "cells": [
  {
   "cell_type": "code",
   "execution_count": 1,
   "metadata": {},
   "outputs": [],
   "source": [
    "import json\n",
    "import urllib.request\n",
    "\n",
    "users = [\"elmiram\", \"maryszmary\", \"lizaku\", \"nevmenandr\", \"ancatmara\", \"roctbb\", \"akutuzov\", \"agricolamz\", \"lehkost\", \"kylepjohnson\", \"mikekestemont\", \"demidovakatya\", \"shwars\", \"JelteF\", \"timgraham\", \"arogozhnikov\", \"jasny\", \"bcongdon\", \"whyisjake\", \"gvanrossum\"]\n",
    "token = \"e17a013c86ea86399840728cc8197c7751eda645\""
   ]
  },
  {
   "cell_type": "code",
   "execution_count": 2,
   "metadata": {},
   "outputs": [],
   "source": [
    "def receive_info(link): \n",
    "    response = urllib.request.urlopen(link)\n",
    "    text = response.read().decode('utf-8')\n",
    "    data = json.loads(text)\n",
    "    return data"
   ]
  },
  {
   "cell_type": "code",
   "execution_count": 3,
   "metadata": {},
   "outputs": [],
   "source": [
    "def print_reps(info):\n",
    "    for rep in info:\n",
    "        print(rep[\"name\"]+':', end=\" \")\n",
    "        if rep[\"description\"] != None:\n",
    "            print(rep[\"description\"])\n",
    "        else:\n",
    "            print(\"no description\")"
   ]
  },
  {
   "cell_type": "code",
   "execution_count": 4,
   "metadata": {},
   "outputs": [],
   "source": [
    "def countlanguages(info):\n",
    "    languages = {}\n",
    "    for i in info:\n",
    "        if i[\"language\"]:\n",
    "            if i[\"language\"] not in languages:\n",
    "                languages[i[\"language\"]] = 1\n",
    "            else:\n",
    "                languages[i[\"language\"]] +=1\n",
    "    print(\"Languages used:\")\n",
    "    for item in languages.items():\n",
    "        print(str(item[0]).strip(\"\")+\":\", item[1])"
   ]
  },
  {
   "cell_type": "code",
   "execution_count": 5,
   "metadata": {},
   "outputs": [],
   "source": [
    "def max_reps_count(userlist):\n",
    "    max_reps = 0\n",
    "    for user in userlist:\n",
    "        url = 'https://api.github.com/users/%s/repos?access_token=%s' % (user, token)\n",
    "        data = receive_info(url)\n",
    "        if len(data) > max_reps:\n",
    "            max_user = user\n",
    "    print(max_user, \"has the biggest number of repositories.\")"
   ]
  },
  {
   "cell_type": "code",
   "execution_count": 6,
   "metadata": {},
   "outputs": [],
   "source": [
    "def max_lang_count(userlist):\n",
    "    lang_popularity = {}\n",
    "    for user in userlist:\n",
    "        url = 'https://api.github.com/users/%s/repos?access_token=%s' % (user, token)\n",
    "        data = receive_info(url)\n",
    "        for i in data:\n",
    "            if i[\"language\"]:\n",
    "                if i[\"language\"] not in lang_popularity:\n",
    "                    lang_popularity[i[\"language\"]] = 1\n",
    "                else:\n",
    "                    lang_popularity[i[\"language\"]] +=1\n",
    "    print(sorted(lang_popularity, key=lang_popularity.get, reverse=True)[0], 'is the most popular language among these users.')"
   ]
  },
  {
   "cell_type": "code",
   "execution_count": 7,
   "metadata": {},
   "outputs": [],
   "source": [
    "def max_followers_count(userlist):\n",
    "    followers_count = {}\n",
    "    for user in userlist:\n",
    "        url = 'https://api.github.com/users/%s/followers?access_token=%s' % (user, token)\n",
    "        data = receive_info(url)\n",
    "        followers_count[user] = len(data)\n",
    "    print(sorted(followers_count, key=followers_count.get, reverse=True)[0], 'has the most followers among these users.')"
   ]
  },
  {
   "cell_type": "code",
   "execution_count": 8,
   "metadata": {},
   "outputs": [],
   "source": [
    "def main():\n",
    "    username = input('Enter github username: ')\n",
    "    url = 'https://api.github.com/users/%s/repos?access_token=%s' % (username, token)\n",
    "    user_data = receive_info(url)\n",
    "    print_reps(user_data)\n",
    "    print()\n",
    "    countlanguages(user_data)\n",
    "    print()\n",
    "    max_reps_count(users)\n",
    "    max_lang_count(users)\n",
    "    max_followers_count(users)"
   ]
  },
  {
   "cell_type": "code",
   "execution_count": 9,
   "metadata": {},
   "outputs": [
    {
     "name": "stdout",
     "output_type": "stream",
     "text": [
      "Enter github username: agricolamz\n",
      "2017-MAG_R_course: no description\n",
      "2017_ANDAN_course: Course for ANDAN Summer School about strings and texts in R\n",
      "2017_ConCorT_lingtypology: no description\n",
      "2017_HSE_SPb_R_introduction: https://agricolamz.github.io/2017_HSE_SPb_R_introduction/\n",
      "2017_m_Instrumental_Phonetics: no description\n",
      "2017_WCAD_talk: no description\n",
      "2017_Zilo_fieldwork_prezi: no description\n",
      "2018-MAG_R_course: no description\n",
      "2018.04.21_MSU_acceptability: no description\n",
      "2018.05.11_Yerevan_Zilo_classes: no description\n",
      "2018.07.29_ANDAN_Agreement: no description\n",
      "2018.07.30_LINGDAN_Praat_Elan: no description\n",
      "2018.08.02_ANDAN_Shiny: no description\n",
      "2018_18.03.20_lingtypology_news: no description\n",
      "2018_18.04.28_Grammaticality_shiny: no description\n",
      "2018_adyghe_phonology: no description\n",
      "2018_ANDAN_course_winter: Course for ANDAN Winter School about rmarkdown:\n",
      "2018_Andia_adjectives: no description\n",
      "2018_Andi_relative_clause: no description\n",
      "2018_Areal_Patterns: Materials for the course at HSE / LCL Summer School on Areal Linguistics and the Languages of Russia, 10-14.09.2018 with @macleginn\n",
      "2018_data_analysis_for_linguists: Course on Data Analysis for linguists\n",
      "2018_Digital_literacy: no description\n",
      "2018_FE_R_statistics: Further Education R course\n",
      "2018_lingdan_organisation: no description\n",
      "2018_lingtypology_course_Paris: Short course about R and lingtypology in Paris (19.01.2018)\n",
      "2018_linguistic_geography_Paris: no description\n",
      "2018_MYABL: no description\n",
      "2018_m_Instrumental_Phonetics: no description\n",
      "2018_Phonological_seminar_lingphonology: no description\n",
      "2018_RSL_phonology_with_P_Rudnev: no description\n",
      "\n",
      "Languages used:\n",
      "HTML: 12\n",
      "JavaScript: 1\n",
      "TeX: 8\n",
      "R: 1\n",
      "\n",
      "gvanrossum has the biggest number of repositories.\n",
      "Python is the most popular language among these users.\n",
      "lizaku has the most followers among these users.\n"
     ]
    }
   ],
   "source": [
    "if __name__ == \"__main__\":\n",
    "    main()"
   ]
  }
 ],
 "metadata": {
  "kernelspec": {
   "display_name": "Python 3",
   "language": "python",
   "name": "python3"
  },
  "language_info": {
   "codemirror_mode": {
    "name": "ipython",
    "version": 3
   },
   "file_extension": ".py",
   "mimetype": "text/x-python",
   "name": "python",
   "nbconvert_exporter": "python",
   "pygments_lexer": "ipython3",
   "version": "3.7.0"
  }
 },
 "nbformat": 4,
 "nbformat_minor": 2
}
