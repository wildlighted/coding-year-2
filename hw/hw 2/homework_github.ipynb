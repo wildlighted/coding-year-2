{
 "cells": [
  {
   "cell_type": "code",
   "execution_count": null,
   "metadata": {},
   "outputs": [],
   "source": [
    "import json\n",
    "import urllib.request\n",
    "\n",
    "users = [\"elmiram\", \"maryszmary\", \"lizaku\", \"nevmenandr\", \"ancatmara\", \"roctbb\", \"akutuzov\", \"agricolamz\", \"lehkost\", \"kylepjohnson\", \"mikekestemont\", \"demidovakatya\", \"shwars\", \"JelteF\", \"timgraham\", \"arogozhnikov\", \"jasny\", \"bcongdon\", \"whyisjake\", \"gvanrossum\"]\n",
    "token = \"0b51c28017a031ab9ef3f2ca305e3acf8a4fb3a9\""
   ]
  },
  {
   "cell_type": "code",
   "execution_count": null,
   "metadata": {},
   "outputs": [],
   "source": [
    "def receive_info(link): \n",
    "    response = urllib.request.urlopen(link)\n",
    "    text = response.read().decode('utf-8')\n",
    "    data = json.loads(text)\n",
    "    return data"
   ]
  },
  {
   "cell_type": "code",
   "execution_count": null,
   "metadata": {},
   "outputs": [],
   "source": [
    "def print_reps(info):\n",
    "    for rep in info:\n",
    "        print(rep[\"name\"]+':', end=\" \")\n",
    "        if rep[\"description\"] != None:\n",
    "            print(rep[\"description\"])\n",
    "        else:\n",
    "            print(\"no description\")"
   ]
  },
  {
   "cell_type": "code",
   "execution_count": null,
   "metadata": {},
   "outputs": [],
   "source": [
    "def countlanguages(info):\n",
    "    languages = {}\n",
    "    for i in info:\n",
    "        if i[\"language\"]:\n",
    "            if i[\"language\"] not in languages:\n",
    "                languages[i[\"language\"]] = 1\n",
    "            else:\n",
    "                languages[i[\"language\"]] +=1\n",
    "    print(\"Languages used:\")\n",
    "    for item in languages.items():\n",
    "        print(str(item[0]).strip(\"\")+\":\", item[1])"
   ]
  },
  {
   "cell_type": "code",
   "execution_count": null,
   "metadata": {},
   "outputs": [],
   "source": [
    "def max_reps_count(userlist):\n",
    "    max_reps = 0\n",
    "    for user in userlist:\n",
    "        page = 1\n",
    "        url = 'https://api.github.com/users/%s/repos?page=%s&per_page=100&access_token=%s' % (user, page, token)\n",
    "        data = receive_info(url)\n",
    "        while len(data) // 100 == page:\n",
    "            page +=1\n",
    "            url = 'https://api.github.com/users/%s/repos?page=%s&per_page=100&access_token=%s' % (user, page, token)\n",
    "            data += receive_info(url)\n",
    "        if len(data) > max_reps:\n",
    "            max_user = user\n",
    "    print(max_user, \"has the biggest number of repositories.\")"
   ]
  },
  {
   "cell_type": "code",
   "execution_count": null,
   "metadata": {},
   "outputs": [],
   "source": [
    "def max_lang_count(userlist):\n",
    "    lang_popularity = {}\n",
    "    for user in userlist:\n",
    "        page = 1\n",
    "        url = 'https://api.github.com/users/%s/repos?page=%s&per_page=100&access_token=%s' % (user, page, token)\n",
    "        data = receive_info(url)\n",
    "        while len(data) // 100 == page:\n",
    "            page +=1\n",
    "            url = 'https://api.github.com/users/%s/repos?page=%s&per_page=100&access_token=%s' % (user, page, token)\n",
    "            data += receive_info(url)\n",
    "        for i in data:\n",
    "            if i[\"language\"]:\n",
    "                if i[\"language\"] not in lang_popularity:\n",
    "                    lang_popularity[i[\"language\"]] = 1\n",
    "                else:\n",
    "                    lang_popularity[i[\"language\"]] +=1\n",
    "    print(sorted(lang_popularity, key=lang_popularity.get, reverse=True)[0], 'is the most popular language among these users.')"
   ]
  },
  {
   "cell_type": "code",
   "execution_count": null,
   "metadata": {},
   "outputs": [],
   "source": [
    "def max_followers_count(userlist):\n",
    "    followers_count = {}\n",
    "    for user in userlist:\n",
    "        page = 1\n",
    "        url = 'https://api.github.com/users/%s/followers?page=%s&per_page=100&access_token=%s' % (user, page, token)\n",
    "        data = receive_info(url)\n",
    "        while len(data) // 100 == page:\n",
    "            page +=1\n",
    "            url = 'https://api.github.com/users/%s/followers?page=%s&per_page=100&access_token=%s' % (user, page, token)\n",
    "            data += receive_info(url)\n",
    "        followers_count[user] = len(data)\n",
    "    print(sorted(followers_count, key=followers_count.get, reverse=True)[0], 'has the most followers among these users.')"
   ]
  },
  {
   "cell_type": "code",
   "execution_count": null,
   "metadata": {},
   "outputs": [],
   "source": [
    "def main():\n",
    "    username = input('Enter github username: ')\n",
    "    page = 1\n",
    "    url = 'https://api.github.com/users/%s/repos?page=%s&per_page=100&access_token=%s' % (username, page, token)\n",
    "    user_data = receive_info(url)\n",
    "    while len(user_data) // 100 == page:\n",
    "        page +=1\n",
    "        url = 'https://api.github.com/users/%s/repos?page=%s&per_page=100&access_token=%s' % (username, page, token)\n",
    "        user_data += receive_info(url)\n",
    "    print_reps(user_data)\n",
    "    print()\n",
    "    countlanguages(user_data)\n",
    "    print()\n",
    "    max_reps_count(users)\n",
    "    max_lang_count(users)\n",
    "    max_followers_count(users)"
   ]
  },
  {
   "cell_type": "code",
   "execution_count": null,
   "metadata": {},
   "outputs": [],
   "source": [
    "if __name__ == \"__main__\":\n",
    "    main()"
   ]
  }
 ],
 "metadata": {
  "kernelspec": {
   "display_name": "Python 3",
   "language": "python",
   "name": "python3"
  },
  "language_info": {
   "codemirror_mode": {
    "name": "ipython",
    "version": 3
   },
   "file_extension": ".py",
   "mimetype": "text/x-python",
   "name": "python",
   "nbconvert_exporter": "python",
   "pygments_lexer": "ipython3",
   "version": "3.7.0"
  }
 },
 "nbformat": 4,
 "nbformat_minor": 2
}
