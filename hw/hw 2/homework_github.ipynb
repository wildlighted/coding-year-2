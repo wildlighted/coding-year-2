{
 "cells": [
  {
   "cell_type": "code",
   "execution_count": 21,
   "metadata": {},
   "outputs": [
    {
     "name": "stdout",
     "output_type": "stream",
     "text": [
      "Enter your token: d3595e1981cdb74369df9de06fa5b40bc8faf5e3\n"
     ]
    }
   ],
   "source": [
    "import json\n",
    "import urllib.request\n",
    "\n",
    "users = [\"elmiram\", \"maryszmary\", \"lizaku\", \"nevmenandr\", \"ancatmara\", \"roctbb\", \"akutuzov\", \"agricolamz\", \"lehkost\", \"kylepjohnson\", \"mikekestemont\", \"demidovakatya\", \"shwars\", \"JelteF\", \"timgraham\", \"arogozhnikov\", \"jasny\", \"bcongdon\", \"whyisjake\", \"gvanrossum\"]\n",
    "token = input(\"Enter your token: \") \n",
    "#пожалуйста, вставьте свой рабочий токен."
   ]
  },
  {
   "cell_type": "code",
   "execution_count": 22,
   "metadata": {},
   "outputs": [],
   "source": [
    "def receive_info(link): #получение информации по ссылке\n",
    "    response = urllib.request.urlopen(link)\n",
    "    text = response.read().decode('utf-8')\n",
    "    data = json.loads(text)\n",
    "    return data"
   ]
  },
  {
   "cell_type": "code",
   "execution_count": 23,
   "metadata": {},
   "outputs": [],
   "source": [
    "def get_reps(user): #получение списка репозиториев\n",
    "    page = 1\n",
    "    url = \"https://api.github.com/users/%s/repos?page=%s&per_page=100&access_token=%s\" % (user, page, token)\n",
    "    data = receive_info(url)\n",
    "    while len(data) // 100 == page: #при выдаче 100 на страницу проверяем, не последняя ли страница\n",
    "        page +=1\n",
    "        url = \"https://api.github.com/users/%s/repos?page=%s&per_page=100&access_token=%s\" % (user, page, token)\n",
    "        data += receive_info(url)\n",
    "    return data"
   ]
  },
  {
   "cell_type": "code",
   "execution_count": 24,
   "metadata": {},
   "outputs": [],
   "source": [
    "def print_reps(info): #печать репозиториев и описаний\n",
    "    print(\"This user's repositories:\\n\")\n",
    "    for rep in info:\n",
    "        print(rep[\"name\"]+':', end=\" \")\n",
    "        if rep[\"description\"] != None: #проверка на непустое описание\n",
    "            print(rep[\"description\"])\n",
    "        else:\n",
    "            print(\"no description\")\n",
    "    print()"
   ]
  },
  {
   "cell_type": "code",
   "execution_count": 25,
   "metadata": {},
   "outputs": [],
   "source": [
    "def countlanguages(info): #подсчет использования языков в репозиториях\n",
    "    languages = {}\n",
    "    for rep in info:\n",
    "        if rep[\"language\"]:\n",
    "            if rep[\"language\"] not in languages: #добавление нового языка в словарь\n",
    "                languages[rep[\"language\"]] = 1\n",
    "            else:\n",
    "                languages[rep[\"language\"]] +=1 #подсчет репозиториев с использованием языка\n",
    "    print(\"This user's languages:\\n\")\n",
    "    for item in languages.items():\n",
    "        print(str(item[0]).strip(\"\")+\":\", item[1])\n",
    "    print()"
   ]
  },
  {
   "cell_type": "code",
   "execution_count": 26,
   "metadata": {},
   "outputs": [],
   "source": [
    "def max_reps_count(userlist): #поиск юзера с максимальным количеством репозиториев\n",
    "    reps_count = {}\n",
    "    for user in userlist:\n",
    "        page = 1\n",
    "        url = \"https://api.github.com/users/%s/repos?page=%s&per_page=100&access_token=%s\" % (user, page, token)\n",
    "        data = receive_info(url)\n",
    "        while len(data) // 100 == page: #проверка на непоследнюю страницу\n",
    "            page +=1\n",
    "            url = \"https://api.github.com/users/%s/repos?page=%s&per_page=100&access_token=%s\" % (user, page, token)\n",
    "            data += receive_info(url)\n",
    "        reps_count[user] = len(data)\n",
    "    print(sorted(reps_count, key=reps_count.get, reverse=True)[0], \"has the biggest number of repositories among these users.\\n\")\n",
    "    #вывод первого ключа в отсортированном по убыванию значений словаре"
   ]
  },
  {
   "cell_type": "code",
   "execution_count": 27,
   "metadata": {},
   "outputs": [],
   "source": [
    "def max_lang_count(userlist): #поиск самого популярного языка\n",
    "    lang_popularity = {}\n",
    "    for user in userlist:\n",
    "        data = get_reps(user)\n",
    "        for i in data:\n",
    "            if i[\"language\"]: #проверка на непустое поле языка\n",
    "                if i[\"language\"] not in lang_popularity: \n",
    "                    lang_popularity[i[\"language\"]] = 1 #добавление нового языка\n",
    "                else:\n",
    "                    lang_popularity[i[\"language\"]] += 1 #подсчет использования языка для всех пользователей списка\n",
    "    print(sorted(lang_popularity, key=lang_popularity.get, reverse=True)[0], \"is the most popular language among these users.\\n\")\n",
    "    #вывод первого ключа в отсортированном по убыванию значений словаре"
   ]
  },
  {
   "cell_type": "code",
   "execution_count": 28,
   "metadata": {},
   "outputs": [],
   "source": [
    "def get_followers(user): #получение списка фолловеров\n",
    "    page = 1\n",
    "    url = \"https://api.github.com/users/%s/followers?page=%s&per_page=100&access_token=%s\" % (user, page, token)\n",
    "    followers = receive_info(url)\n",
    "    while len(followers) // 100 == page: #проверка на непоследнюю страницу\n",
    "        page +=1\n",
    "        url = \"https://api.github.com/users/%s/followers?page=%s&per_page=100&access_token=%s\" % (user, page, token)\n",
    "        followers += receive_info(url)\n",
    "    return followers"
   ]
  },
  {
   "cell_type": "code",
   "execution_count": 29,
   "metadata": {},
   "outputs": [],
   "source": [
    "def max_followers_count(userlist): #поиск юзера с максимальным количеством фолловеров\n",
    "    followers_count = {}\n",
    "    for user in userlist:\n",
    "        followers = get_followers(user)\n",
    "        followers_count[user] = len(followers)\n",
    "    print(sorted(followers_count, key=followers_count.get, reverse=True)[0], \"has the most followers among these users.\")\n",
    "    #вывод первого ключа в отсортированном по убыванию значений словаре"
   ]
  },
  {
   "cell_type": "code",
   "execution_count": 30,
   "metadata": {},
   "outputs": [],
   "source": [
    "def main():\n",
    "    username = input(\"Enter github username: \")\n",
    "    user_data = get_reps(username)\n",
    "    print_reps(user_data)\n",
    "    countlanguages(user_data)\n",
    "    max_reps_count(users)\n",
    "    max_lang_count(users)\n",
    "    max_followers_count(users)"
   ]
  },
  {
   "cell_type": "code",
   "execution_count": 31,
   "metadata": {},
   "outputs": [
    {
     "name": "stdout",
     "output_type": "stream",
     "text": [
      "Enter github username: maryszmary\n",
      "This user's repositories:\n",
      "\n",
      "adj_and_ngramms: no description\n",
      "Algorithm-Testament: Reproducing http://kingjamesprogramming.tumblr.com and having fun.\n",
      "bot: Бот для семинара по НИС\n",
      "cognitive_biases: no description\n",
      "ComplingLecture: Our lecture about computer linguistics for the 1st year students. \n",
      "compling_hw: My homework for the course of Computational Linguistics.\n",
      "compling_ml: Masha Sheyanova and Sasha Martynova's repository for ML hw. \n",
      "conllu-perceptron-tagger: A simple perceptron tagger for CoNLL-U files\n",
      "digital_humanities: no description\n",
      "fst_chv: no description\n",
      "holiday_applications: This is my test task for profi.ru\n",
      "HSEquestion_bot: A Telegram chatbot based on HSE FAQ.\n",
      "jonorthwash.github.io: no description\n",
      "langTrainers: Web-interface for language trainers.\n",
      "lazy_annotation: no description\n",
      "lex_crawler: no description\n",
      "lxml_tutorial: no description\n",
      "lychee-spellchecker: Simple spellchecker project\n",
      "ml_hw: homework for ml course\n",
      "r_application: no description\n",
      "R_course: Homework for the data analysis course\n",
      "sem_disam: authomatic semantic disambiguation for ruscorpora\n",
      "txuvaix: no description\n",
      "ud-annotatrix: no description\n",
      "webdev-practice: Web Development Practice\n",
      "xml4webcorpora: Scripts for converting txt and book xml files to xml format for webcorpora.  \n",
      "\n",
      "This user's languages:\n",
      "\n",
      "Python: 11\n",
      "Jupyter Notebook: 7\n",
      "TeX: 1\n",
      "JavaScript: 2\n",
      "R: 1\n",
      "HTML: 2\n",
      "\n",
      "JelteF has the biggest number of repositories among these users.\n",
      "\n",
      "Python is the most popular language among these users.\n",
      "\n",
      "gvanrossum has the most followers among these users.\n"
     ]
    }
   ],
   "source": [
    "if __name__ == \"__main__\":\n",
    "    main()"
   ]
  }
 ],
 "metadata": {
  "kernelspec": {
   "display_name": "Python 3",
   "language": "python",
   "name": "python3"
  },
  "language_info": {
   "codemirror_mode": {
    "name": "ipython",
    "version": 3
   },
   "file_extension": ".py",
   "mimetype": "text/x-python",
   "name": "python",
   "nbconvert_exporter": "python",
   "pygments_lexer": "ipython3",
   "version": "3.7.0"
  }
 },
 "nbformat": 4,
 "nbformat_minor": 2
}
